{
  "nbformat": 4,
  "nbformat_minor": 0,
  "metadata": {
    "colab": {
      "name": "01 - TSLearn Test.ipynb",
      "provenance": [],
      "collapsed_sections": [],
      "authorship_tag": "ABX9TyPkcVf6q3QLNrefqfuL0aq2",
      "include_colab_link": true
    },
    "kernelspec": {
      "name": "python3",
      "display_name": "Python 3"
    },
    "language_info": {
      "name": "python"
    }
  },
  "cells": [
    {
      "cell_type": "markdown",
      "metadata": {
        "id": "view-in-github",
        "colab_type": "text"
      },
      "source": [
        "<a href=\"https://colab.research.google.com/github/JoDeMiro/TimeSeriesLearn/blob/main/01_TSLearn_Test.ipynb\" target=\"_parent\"><img src=\"https://colab.research.google.com/assets/colab-badge.svg\" alt=\"Open In Colab\"/></a>"
      ]
    },
    {
      "cell_type": "code",
      "source": [
        ""
      ],
      "metadata": {
        "id": "phZRJcQ3rd4C"
      },
      "execution_count": null,
      "outputs": []
    },
    {
      "cell_type": "markdown",
      "source": [
        "https://tslearn.readthedocs.io/en/stable/gen_modules/neural_network/tslearn.neural_network.TimeSeriesMLPRegressor.html\n",
        "\n",
        "\n",
        "https://tslearn.readthedocs.io/en/stable/auto_examples/index.html\n",
        "\n",
        "\n",
        "https://pypi.org/project/tslearn/#documentation\n",
        "\n",
        "\n",
        "https://github.com/tslearn-team/tslearn"
      ],
      "metadata": {
        "id": "7PcGlCUirfl0"
      }
    },
    {
      "cell_type": "code",
      "source": [
        ""
      ],
      "metadata": {
        "id": "519sO-jjrdzN"
      },
      "execution_count": null,
      "outputs": []
    },
    {
      "cell_type": "code",
      "source": [
        "import numpy as np\n",
        "import matplotlib.pyplot as plt"
      ],
      "metadata": {
        "id": "TkKT_1bUrnhs"
      },
      "execution_count": 1,
      "outputs": []
    },
    {
      "cell_type": "code",
      "source": [
        "!pip install tslearn"
      ],
      "metadata": {
        "colab": {
          "base_uri": "https://localhost:8080/"
        },
        "id": "avh3jPBRr0TS",
        "outputId": "5c39f68f-bf55-4e42-bf94-f27e095b3470"
      },
      "execution_count": 3,
      "outputs": [
        {
          "output_type": "stream",
          "name": "stdout",
          "text": [
            "Collecting tslearn\n",
            "  Downloading tslearn-0.5.2-cp37-cp37m-manylinux_2_5_x86_64.manylinux1_x86_64.manylinux_2_12_x86_64.manylinux2010_x86_64.whl (793 kB)\n",
            "\u001b[?25l\r\u001b[K     |▍                               | 10 kB 19.2 MB/s eta 0:00:01\r\u001b[K     |▉                               | 20 kB 13.6 MB/s eta 0:00:01\r\u001b[K     |█▎                              | 30 kB 10.2 MB/s eta 0:00:01\r\u001b[K     |█▋                              | 40 kB 9.0 MB/s eta 0:00:01\r\u001b[K     |██                              | 51 kB 5.6 MB/s eta 0:00:01\r\u001b[K     |██▌                             | 61 kB 5.7 MB/s eta 0:00:01\r\u001b[K     |███                             | 71 kB 5.6 MB/s eta 0:00:01\r\u001b[K     |███▎                            | 81 kB 6.2 MB/s eta 0:00:01\r\u001b[K     |███▊                            | 92 kB 5.0 MB/s eta 0:00:01\r\u001b[K     |████▏                           | 102 kB 5.3 MB/s eta 0:00:01\r\u001b[K     |████▌                           | 112 kB 5.3 MB/s eta 0:00:01\r\u001b[K     |█████                           | 122 kB 5.3 MB/s eta 0:00:01\r\u001b[K     |█████▍                          | 133 kB 5.3 MB/s eta 0:00:01\r\u001b[K     |█████▉                          | 143 kB 5.3 MB/s eta 0:00:01\r\u001b[K     |██████▏                         | 153 kB 5.3 MB/s eta 0:00:01\r\u001b[K     |██████▋                         | 163 kB 5.3 MB/s eta 0:00:01\r\u001b[K     |███████                         | 174 kB 5.3 MB/s eta 0:00:01\r\u001b[K     |███████▍                        | 184 kB 5.3 MB/s eta 0:00:01\r\u001b[K     |███████▉                        | 194 kB 5.3 MB/s eta 0:00:01\r\u001b[K     |████████▎                       | 204 kB 5.3 MB/s eta 0:00:01\r\u001b[K     |████████▊                       | 215 kB 5.3 MB/s eta 0:00:01\r\u001b[K     |█████████                       | 225 kB 5.3 MB/s eta 0:00:01\r\u001b[K     |█████████▌                      | 235 kB 5.3 MB/s eta 0:00:01\r\u001b[K     |██████████                      | 245 kB 5.3 MB/s eta 0:00:01\r\u001b[K     |██████████▎                     | 256 kB 5.3 MB/s eta 0:00:01\r\u001b[K     |██████████▊                     | 266 kB 5.3 MB/s eta 0:00:01\r\u001b[K     |███████████▏                    | 276 kB 5.3 MB/s eta 0:00:01\r\u001b[K     |███████████▋                    | 286 kB 5.3 MB/s eta 0:00:01\r\u001b[K     |████████████                    | 296 kB 5.3 MB/s eta 0:00:01\r\u001b[K     |████████████▍                   | 307 kB 5.3 MB/s eta 0:00:01\r\u001b[K     |████████████▉                   | 317 kB 5.3 MB/s eta 0:00:01\r\u001b[K     |█████████████▏                  | 327 kB 5.3 MB/s eta 0:00:01\r\u001b[K     |█████████████▋                  | 337 kB 5.3 MB/s eta 0:00:01\r\u001b[K     |██████████████                  | 348 kB 5.3 MB/s eta 0:00:01\r\u001b[K     |██████████████▌                 | 358 kB 5.3 MB/s eta 0:00:01\r\u001b[K     |██████████████▉                 | 368 kB 5.3 MB/s eta 0:00:01\r\u001b[K     |███████████████▎                | 378 kB 5.3 MB/s eta 0:00:01\r\u001b[K     |███████████████▊                | 389 kB 5.3 MB/s eta 0:00:01\r\u001b[K     |████████████████▏               | 399 kB 5.3 MB/s eta 0:00:01\r\u001b[K     |████████████████▌               | 409 kB 5.3 MB/s eta 0:00:01\r\u001b[K     |█████████████████               | 419 kB 5.3 MB/s eta 0:00:01\r\u001b[K     |█████████████████▍              | 430 kB 5.3 MB/s eta 0:00:01\r\u001b[K     |█████████████████▊              | 440 kB 5.3 MB/s eta 0:00:01\r\u001b[K     |██████████████████▏             | 450 kB 5.3 MB/s eta 0:00:01\r\u001b[K     |██████████████████▋             | 460 kB 5.3 MB/s eta 0:00:01\r\u001b[K     |███████████████████             | 471 kB 5.3 MB/s eta 0:00:01\r\u001b[K     |███████████████████▍            | 481 kB 5.3 MB/s eta 0:00:01\r\u001b[K     |███████████████████▉            | 491 kB 5.3 MB/s eta 0:00:01\r\u001b[K     |████████████████████▎           | 501 kB 5.3 MB/s eta 0:00:01\r\u001b[K     |████████████████████▋           | 512 kB 5.3 MB/s eta 0:00:01\r\u001b[K     |█████████████████████           | 522 kB 5.3 MB/s eta 0:00:01\r\u001b[K     |█████████████████████▌          | 532 kB 5.3 MB/s eta 0:00:01\r\u001b[K     |██████████████████████          | 542 kB 5.3 MB/s eta 0:00:01\r\u001b[K     |██████████████████████▎         | 552 kB 5.3 MB/s eta 0:00:01\r\u001b[K     |██████████████████████▊         | 563 kB 5.3 MB/s eta 0:00:01\r\u001b[K     |███████████████████████▏        | 573 kB 5.3 MB/s eta 0:00:01\r\u001b[K     |███████████████████████▌        | 583 kB 5.3 MB/s eta 0:00:01\r\u001b[K     |████████████████████████        | 593 kB 5.3 MB/s eta 0:00:01\r\u001b[K     |████████████████████████▍       | 604 kB 5.3 MB/s eta 0:00:01\r\u001b[K     |████████████████████████▉       | 614 kB 5.3 MB/s eta 0:00:01\r\u001b[K     |█████████████████████████▏      | 624 kB 5.3 MB/s eta 0:00:01\r\u001b[K     |█████████████████████████▋      | 634 kB 5.3 MB/s eta 0:00:01\r\u001b[K     |██████████████████████████      | 645 kB 5.3 MB/s eta 0:00:01\r\u001b[K     |██████████████████████████▍     | 655 kB 5.3 MB/s eta 0:00:01\r\u001b[K     |██████████████████████████▉     | 665 kB 5.3 MB/s eta 0:00:01\r\u001b[K     |███████████████████████████▎    | 675 kB 5.3 MB/s eta 0:00:01\r\u001b[K     |███████████████████████████▊    | 686 kB 5.3 MB/s eta 0:00:01\r\u001b[K     |████████████████████████████    | 696 kB 5.3 MB/s eta 0:00:01\r\u001b[K     |████████████████████████████▌   | 706 kB 5.3 MB/s eta 0:00:01\r\u001b[K     |█████████████████████████████   | 716 kB 5.3 MB/s eta 0:00:01\r\u001b[K     |█████████████████████████████▍  | 727 kB 5.3 MB/s eta 0:00:01\r\u001b[K     |█████████████████████████████▊  | 737 kB 5.3 MB/s eta 0:00:01\r\u001b[K     |██████████████████████████████▏ | 747 kB 5.3 MB/s eta 0:00:01\r\u001b[K     |██████████████████████████████▋ | 757 kB 5.3 MB/s eta 0:00:01\r\u001b[K     |███████████████████████████████ | 768 kB 5.3 MB/s eta 0:00:01\r\u001b[K     |███████████████████████████████▍| 778 kB 5.3 MB/s eta 0:00:01\r\u001b[K     |███████████████████████████████▉| 788 kB 5.3 MB/s eta 0:00:01\r\u001b[K     |████████████████████████████████| 793 kB 5.3 MB/s \n",
            "\u001b[?25hRequirement already satisfied: scipy in /usr/local/lib/python3.7/dist-packages (from tslearn) (1.4.1)\n",
            "Requirement already satisfied: Cython in /usr/local/lib/python3.7/dist-packages (from tslearn) (0.29.27)\n",
            "Requirement already satisfied: scikit-learn in /usr/local/lib/python3.7/dist-packages (from tslearn) (1.0.2)\n",
            "Requirement already satisfied: numpy in /usr/local/lib/python3.7/dist-packages (from tslearn) (1.21.5)\n",
            "Requirement already satisfied: joblib in /usr/local/lib/python3.7/dist-packages (from tslearn) (1.1.0)\n",
            "Requirement already satisfied: numba in /usr/local/lib/python3.7/dist-packages (from tslearn) (0.51.2)\n",
            "Requirement already satisfied: llvmlite<0.35,>=0.34.0.dev0 in /usr/local/lib/python3.7/dist-packages (from numba->tslearn) (0.34.0)\n",
            "Requirement already satisfied: setuptools in /usr/local/lib/python3.7/dist-packages (from numba->tslearn) (57.4.0)\n",
            "Requirement already satisfied: threadpoolctl>=2.0.0 in /usr/local/lib/python3.7/dist-packages (from scikit-learn->tslearn) (3.1.0)\n",
            "Installing collected packages: tslearn\n",
            "Successfully installed tslearn-0.5.2\n"
          ]
        }
      ]
    },
    {
      "cell_type": "code",
      "source": [
        "import tslearn"
      ],
      "metadata": {
        "id": "Ggk0AqMXrxk2"
      },
      "execution_count": 4,
      "outputs": []
    },
    {
      "cell_type": "code",
      "source": [
        "from tslearn.neural_network import TimeSeriesMLPRegressor"
      ],
      "metadata": {
        "id": "PqocV3Xwr7X1"
      },
      "execution_count": 5,
      "outputs": []
    },
    {
      "cell_type": "code",
      "source": [
        "mlp = TimeSeriesMLPRegressor(hidden_layer_sizes=(64, 64),random_state=0)"
      ],
      "metadata": {
        "id": "0xKJuB-Srduk"
      },
      "execution_count": 6,
      "outputs": []
    },
    {
      "cell_type": "code",
      "execution_count": 7,
      "metadata": {
        "colab": {
          "base_uri": "https://localhost:8080/"
        },
        "id": "h5NMVXTIrc2r",
        "outputId": "d95bab2a-28d3-48c4-f621-53726a352da2"
      },
      "outputs": [
        {
          "output_type": "execute_result",
          "data": {
            "text/plain": [
              "{'activation': 'relu',\n",
              " 'alpha': 0.0001,\n",
              " 'batch_size': 'auto',\n",
              " 'beta_1': 0.9,\n",
              " 'beta_2': 0.999,\n",
              " 'early_stopping': False,\n",
              " 'epsilon': 1e-08,\n",
              " 'hidden_layer_sizes': (64, 64),\n",
              " 'learning_rate': 'constant',\n",
              " 'learning_rate_init': 0.001,\n",
              " 'max_fun': 15000,\n",
              " 'max_iter': 200,\n",
              " 'momentum': 0.9,\n",
              " 'n_iter_no_change': 10,\n",
              " 'nesterovs_momentum': True,\n",
              " 'power_t': 0.5,\n",
              " 'random_state': 0,\n",
              " 'shuffle': True,\n",
              " 'solver': 'adam',\n",
              " 'tol': 0.0001,\n",
              " 'validation_fraction': 0.1,\n",
              " 'verbose': False,\n",
              " 'warm_start': False}"
            ]
          },
          "metadata": {},
          "execution_count": 7
        }
      ],
      "source": [
        "mlp.get_params()"
      ]
    },
    {
      "cell_type": "code",
      "source": [
        "X = np.array([[1, 2, 3], [1, 1.2, 3.2], [3, 2, 1]])\n",
        "X.shape"
      ],
      "metadata": {
        "colab": {
          "base_uri": "https://localhost:8080/"
        },
        "id": "kYR2YejRsLxd",
        "outputId": "b6710779-f910-464c-f98d-9de24f1d3f29"
      },
      "execution_count": 9,
      "outputs": [
        {
          "output_type": "execute_result",
          "data": {
            "text/plain": [
              "(3, 3)"
            ]
          },
          "metadata": {},
          "execution_count": 9
        }
      ]
    },
    {
      "cell_type": "code",
      "source": [
        "y = np.array([0, 0, 1])"
      ],
      "metadata": {
        "id": "zh1f6XiQsXYQ"
      },
      "execution_count": 10,
      "outputs": []
    },
    {
      "cell_type": "code",
      "source": [
        "mlp.fit(X, y)"
      ],
      "metadata": {
        "colab": {
          "base_uri": "https://localhost:8080/"
        },
        "id": "6-wDbWKvsh1Y",
        "outputId": "fa4f49a9-63ca-4f42-95ff-142cc14f2d97"
      },
      "execution_count": 11,
      "outputs": [
        {
          "output_type": "execute_result",
          "data": {
            "text/plain": [
              "TimeSeriesMLPRegressor(hidden_layer_sizes=(64, 64), random_state=0)"
            ]
          },
          "metadata": {},
          "execution_count": 11
        }
      ]
    },
    {
      "cell_type": "code",
      "source": [
        "pred = mlp.predict(X)"
      ],
      "metadata": {
        "id": "FPLUUuEJs-n0"
      },
      "execution_count": 12,
      "outputs": []
    },
    {
      "cell_type": "code",
      "source": [
        "pred"
      ],
      "metadata": {
        "colab": {
          "base_uri": "https://localhost:8080/"
        },
        "id": "asB0bVidtDC6",
        "outputId": "c66b59d2-9318-4ca2-b8f3-230a18024f33"
      },
      "execution_count": 13,
      "outputs": [
        {
          "output_type": "execute_result",
          "data": {
            "text/plain": [
              "array([ 0.00866754, -0.0816939 ,  1.09539478])"
            ]
          },
          "metadata": {},
          "execution_count": 13
        }
      ]
    },
    {
      "cell_type": "code",
      "source": [
        "mlp.fit(X=[[1, 2, 3], [1, 1.2, 3.2], [3, 2, 1]], y=[0, 0, 1])"
      ],
      "metadata": {
        "id": "185OIYyYsDqi"
      },
      "execution_count": null,
      "outputs": []
    },
    {
      "cell_type": "markdown",
      "source": [
        "### Minta kód"
      ],
      "metadata": {
        "id": "Z9bKF4hCtqsh"
      }
    },
    {
      "cell_type": "code",
      "source": [
        "from tslearn.utils import to_time_series_dataset\n",
        "my_first_time_series = [1, 3, 4, 2]\n",
        "my_second_time_series = [1, 2, 4, 2]\n",
        "my_third_time_series = [1, 2, 4, 2, 2]\n",
        "X = to_time_series_dataset([my_first_time_series,\n",
        "                                my_second_time_series,\n",
        "                                my_third_time_series])\n",
        "y = [0, 1, 1]"
      ],
      "metadata": {
        "id": "P6dLaSx2tqNT"
      },
      "execution_count": 14,
      "outputs": []
    },
    {
      "cell_type": "code",
      "source": [
        "from tslearn.preprocessing import TimeSeriesScalerMinMax\n",
        "X_scaled = TimeSeriesScalerMinMax().fit_transform(X)\n",
        "print(X_scaled)"
      ],
      "metadata": {
        "colab": {
          "base_uri": "https://localhost:8080/"
        },
        "id": "L110wSy5twPo",
        "outputId": "664a8eaf-6cb1-4f39-f8ad-16c3c093565c"
      },
      "execution_count": 15,
      "outputs": [
        {
          "output_type": "stream",
          "name": "stdout",
          "text": [
            "[[[0.        ]\n",
            "  [0.66666667]\n",
            "  [1.        ]\n",
            "  [0.33333333]\n",
            "  [       nan]]\n",
            "\n",
            " [[0.        ]\n",
            "  [0.33333333]\n",
            "  [1.        ]\n",
            "  [0.33333333]\n",
            "  [       nan]]\n",
            "\n",
            " [[0.        ]\n",
            "  [0.33333333]\n",
            "  [1.        ]\n",
            "  [0.33333333]\n",
            "  [0.33333333]]]\n"
          ]
        }
      ]
    },
    {
      "cell_type": "code",
      "source": [
        "from tslearn.neighbors import KNeighborsTimeSeriesClassifier\n",
        "knn = KNeighborsTimeSeriesClassifier(n_neighbors=1)\n",
        "knn.fit(X_scaled, y)\n",
        "print(knn.predict(X_scaled))"
      ],
      "metadata": {
        "colab": {
          "base_uri": "https://localhost:8080/"
        },
        "id": "ixlteK42t1BE",
        "outputId": "c32b8954-084e-46ea-c421-4f3e663ad87d"
      },
      "execution_count": 16,
      "outputs": [
        {
          "output_type": "stream",
          "name": "stdout",
          "text": [
            "[0 1 1]\n"
          ]
        }
      ]
    },
    {
      "cell_type": "code",
      "source": [
        ""
      ],
      "metadata": {
        "id": "DqpywkMXt8Wt"
      },
      "execution_count": null,
      "outputs": []
    }
  ]
}