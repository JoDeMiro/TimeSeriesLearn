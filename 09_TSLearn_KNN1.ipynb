{
  "cells": [
    {
      "cell_type": "markdown",
      "metadata": {
        "id": "view-in-github",
        "colab_type": "text"
      },
      "source": [
        "<a href=\"https://colab.research.google.com/github/JoDeMiro/TimeSeriesLearn/blob/main/09_TSLearn_KNN1.ipynb\" target=\"_parent\"><img src=\"https://colab.research.google.com/assets/colab-badge.svg\" alt=\"Open In Colab\"/></a>"
      ]
    },
    {
      "cell_type": "code",
      "execution_count": null,
      "metadata": {
        "id": "p2YPE8x-3Rpf"
      },
      "outputs": [],
      "source": [
        "%matplotlib inline"
      ]
    },
    {
      "cell_type": "markdown",
      "metadata": {
        "id": "9ycScPrJ3Rpq"
      },
      "source": [
        "\n",
        "# Nearest neighbors\n",
        "\n",
        "This example illustrates the use of nearest neighbor methods for database\n",
        "search and classification tasks.\n",
        "\n",
        "The three-nearest neighbors of the time series from a test set are computed.\n",
        "Then, the predictive performance of a three-nearest neighbors classifier [1] is\n",
        "computed with three different metrics: Dynamic Time Warping [2], Euclidean\n",
        "distance and SAX-MINDIST [3].\n",
        "\n",
        "[1] `Wikipedia entry for the k-nearest neighbors algorithm\n",
        "<https://en.wikipedia.org/wiki/K-nearest_neighbors_algorithm>`_\n",
        "\n",
        "[2] H. Sakoe and S. Chiba, \"Dynamic programming algorithm optimization\n",
        "for spoken word recognition\". IEEE Transactions on Acoustics, Speech, and\n",
        "Signal Processing, 26(1), 43-49 (1978).\n",
        "\n",
        "[3] J. Lin, E. Keogh, L. Wei and S. Lonardi, \"Experiencing SAX: a novel\n",
        "symbolic representation of time series\". Data Mining and Knowledge Discovery,\n",
        "15(2), 107-144 (2007).\n"
      ]
    },
    {
      "cell_type": "code",
      "source": [
        "!pip install -q tslearn"
      ],
      "metadata": {
        "colab": {
          "base_uri": "https://localhost:8080/"
        },
        "id": "snVRXgSV3Tww",
        "outputId": "12d18c33-c369-4774-f22a-876523024b64"
      },
      "execution_count": 1,
      "outputs": [
        {
          "output_type": "stream",
          "name": "stdout",
          "text": [
            "\u001b[?25l\r\u001b[K     |▍                               | 10 kB 12.5 MB/s eta 0:00:01\r\u001b[K     |▉                               | 20 kB 15.1 MB/s eta 0:00:01\r\u001b[K     |█▎                              | 30 kB 8.7 MB/s eta 0:00:01\r\u001b[K     |█▋                              | 40 kB 4.3 MB/s eta 0:00:01\r\u001b[K     |██                              | 51 kB 4.9 MB/s eta 0:00:01\r\u001b[K     |██▌                             | 61 kB 5.6 MB/s eta 0:00:01\r\u001b[K     |███                             | 71 kB 5.4 MB/s eta 0:00:01\r\u001b[K     |███▎                            | 81 kB 6.0 MB/s eta 0:00:01\r\u001b[K     |███▊                            | 92 kB 6.1 MB/s eta 0:00:01\r\u001b[K     |████▏                           | 102 kB 5.0 MB/s eta 0:00:01\r\u001b[K     |████▌                           | 112 kB 5.0 MB/s eta 0:00:01\r\u001b[K     |█████                           | 122 kB 5.0 MB/s eta 0:00:01\r\u001b[K     |█████▍                          | 133 kB 5.0 MB/s eta 0:00:01\r\u001b[K     |█████▉                          | 143 kB 5.0 MB/s eta 0:00:01\r\u001b[K     |██████▏                         | 153 kB 5.0 MB/s eta 0:00:01\r\u001b[K     |██████▋                         | 163 kB 5.0 MB/s eta 0:00:01\r\u001b[K     |███████                         | 174 kB 5.0 MB/s eta 0:00:01\r\u001b[K     |███████▍                        | 184 kB 5.0 MB/s eta 0:00:01\r\u001b[K     |███████▉                        | 194 kB 5.0 MB/s eta 0:00:01\r\u001b[K     |████████▎                       | 204 kB 5.0 MB/s eta 0:00:01\r\u001b[K     |████████▊                       | 215 kB 5.0 MB/s eta 0:00:01\r\u001b[K     |█████████                       | 225 kB 5.0 MB/s eta 0:00:01\r\u001b[K     |█████████▌                      | 235 kB 5.0 MB/s eta 0:00:01\r\u001b[K     |██████████                      | 245 kB 5.0 MB/s eta 0:00:01\r\u001b[K     |██████████▎                     | 256 kB 5.0 MB/s eta 0:00:01\r\u001b[K     |██████████▊                     | 266 kB 5.0 MB/s eta 0:00:01\r\u001b[K     |███████████▏                    | 276 kB 5.0 MB/s eta 0:00:01\r\u001b[K     |███████████▋                    | 286 kB 5.0 MB/s eta 0:00:01\r\u001b[K     |████████████                    | 296 kB 5.0 MB/s eta 0:00:01\r\u001b[K     |████████████▍                   | 307 kB 5.0 MB/s eta 0:00:01\r\u001b[K     |████████████▉                   | 317 kB 5.0 MB/s eta 0:00:01\r\u001b[K     |█████████████▏                  | 327 kB 5.0 MB/s eta 0:00:01\r\u001b[K     |█████████████▋                  | 337 kB 5.0 MB/s eta 0:00:01\r\u001b[K     |██████████████                  | 348 kB 5.0 MB/s eta 0:00:01\r\u001b[K     |██████████████▌                 | 358 kB 5.0 MB/s eta 0:00:01\r\u001b[K     |██████████████▉                 | 368 kB 5.0 MB/s eta 0:00:01\r\u001b[K     |███████████████▎                | 378 kB 5.0 MB/s eta 0:00:01\r\u001b[K     |███████████████▊                | 389 kB 5.0 MB/s eta 0:00:01\r\u001b[K     |████████████████▏               | 399 kB 5.0 MB/s eta 0:00:01\r\u001b[K     |████████████████▌               | 409 kB 5.0 MB/s eta 0:00:01\r\u001b[K     |█████████████████               | 419 kB 5.0 MB/s eta 0:00:01\r\u001b[K     |█████████████████▍              | 430 kB 5.0 MB/s eta 0:00:01\r\u001b[K     |█████████████████▊              | 440 kB 5.0 MB/s eta 0:00:01\r\u001b[K     |██████████████████▏             | 450 kB 5.0 MB/s eta 0:00:01\r\u001b[K     |██████████████████▋             | 460 kB 5.0 MB/s eta 0:00:01\r\u001b[K     |███████████████████             | 471 kB 5.0 MB/s eta 0:00:01\r\u001b[K     |███████████████████▍            | 481 kB 5.0 MB/s eta 0:00:01\r\u001b[K     |███████████████████▉            | 491 kB 5.0 MB/s eta 0:00:01\r\u001b[K     |████████████████████▎           | 501 kB 5.0 MB/s eta 0:00:01\r\u001b[K     |████████████████████▋           | 512 kB 5.0 MB/s eta 0:00:01\r\u001b[K     |█████████████████████           | 522 kB 5.0 MB/s eta 0:00:01\r\u001b[K     |█████████████████████▌          | 532 kB 5.0 MB/s eta 0:00:01\r\u001b[K     |██████████████████████          | 542 kB 5.0 MB/s eta 0:00:01\r\u001b[K     |██████████████████████▎         | 552 kB 5.0 MB/s eta 0:00:01\r\u001b[K     |██████████████████████▊         | 563 kB 5.0 MB/s eta 0:00:01\r\u001b[K     |███████████████████████▏        | 573 kB 5.0 MB/s eta 0:00:01\r\u001b[K     |███████████████████████▌        | 583 kB 5.0 MB/s eta 0:00:01\r\u001b[K     |████████████████████████        | 593 kB 5.0 MB/s eta 0:00:01\r\u001b[K     |████████████████████████▍       | 604 kB 5.0 MB/s eta 0:00:01\r\u001b[K     |████████████████████████▉       | 614 kB 5.0 MB/s eta 0:00:01\r\u001b[K     |█████████████████████████▏      | 624 kB 5.0 MB/s eta 0:00:01\r\u001b[K     |█████████████████████████▋      | 634 kB 5.0 MB/s eta 0:00:01\r\u001b[K     |██████████████████████████      | 645 kB 5.0 MB/s eta 0:00:01\r\u001b[K     |██████████████████████████▍     | 655 kB 5.0 MB/s eta 0:00:01\r\u001b[K     |██████████████████████████▉     | 665 kB 5.0 MB/s eta 0:00:01\r\u001b[K     |███████████████████████████▎    | 675 kB 5.0 MB/s eta 0:00:01\r\u001b[K     |███████████████████████████▊    | 686 kB 5.0 MB/s eta 0:00:01\r\u001b[K     |████████████████████████████    | 696 kB 5.0 MB/s eta 0:00:01\r\u001b[K     |████████████████████████████▌   | 706 kB 5.0 MB/s eta 0:00:01\r\u001b[K     |█████████████████████████████   | 716 kB 5.0 MB/s eta 0:00:01\r\u001b[K     |█████████████████████████████▍  | 727 kB 5.0 MB/s eta 0:00:01\r\u001b[K     |█████████████████████████████▊  | 737 kB 5.0 MB/s eta 0:00:01\r\u001b[K     |██████████████████████████████▏ | 747 kB 5.0 MB/s eta 0:00:01\r\u001b[K     |██████████████████████████████▋ | 757 kB 5.0 MB/s eta 0:00:01\r\u001b[K     |███████████████████████████████ | 768 kB 5.0 MB/s eta 0:00:01\r\u001b[K     |███████████████████████████████▍| 778 kB 5.0 MB/s eta 0:00:01\r\u001b[K     |███████████████████████████████▉| 788 kB 5.0 MB/s eta 0:00:01\r\u001b[K     |████████████████████████████████| 793 kB 5.0 MB/s \n",
            "\u001b[?25h"
          ]
        }
      ]
    },
    {
      "cell_type": "code",
      "execution_count": 2,
      "metadata": {
        "colab": {
          "base_uri": "https://localhost:8080/"
        },
        "id": "Ey1b5VO73Rpv",
        "outputId": "18dfef5c-47fa-4191-da56-0f62258925b4"
      },
      "outputs": [
        {
          "output_type": "stream",
          "name": "stdout",
          "text": [
            "1. Nearest neighbour search\n",
            "Computed nearest neighbor indices (wrt DTW)\n",
            " [[10 12  2]\n",
            " [ 0 13  5]\n",
            " [ 0  1 13]\n",
            " [ 0 11  5]\n",
            " [16 18 12]\n",
            " [ 3 17  9]\n",
            " [12  2 16]\n",
            " [ 7  3 17]\n",
            " [12  2 10]\n",
            " [12  2 18]\n",
            " [12  8  2]\n",
            " [ 3 17  7]\n",
            " [18 19  2]\n",
            " [ 0 17 13]\n",
            " [ 9  3  7]\n",
            " [12  2  8]\n",
            " [ 3  7  9]\n",
            " [ 0  1 13]\n",
            " [18 10  2]\n",
            " [10 12  2]]\n",
            "First nearest neighbor class: [0 0 0 0 1 1 0 1 0 0 0 1 0 0 0 0 1 0 0 0]\n",
            "\n",
            "2. Nearest neighbor classification using DTW\n",
            "Correct classification rate: 1.0\n",
            "\n",
            "3. Nearest neighbor classification using L2\n",
            "Correct classification rate: 1.0\n",
            "\n",
            "4. Nearest neighbor classification using SAX+MINDIST\n",
            "Correct classification rate: 0.5\n"
          ]
        }
      ],
      "source": [
        "# Author: Romain Tavenard\n",
        "# License: BSD 3 clause\n",
        "\n",
        "import numpy\n",
        "from sklearn.metrics import accuracy_score\n",
        "\n",
        "from tslearn.generators import random_walk_blobs\n",
        "from tslearn.preprocessing import TimeSeriesScalerMinMax, \\\n",
        "    TimeSeriesScalerMeanVariance\n",
        "from tslearn.neighbors import KNeighborsTimeSeriesClassifier, \\\n",
        "    KNeighborsTimeSeries\n",
        "\n",
        "numpy.random.seed(0)\n",
        "n_ts_per_blob, sz, d, n_blobs = 20, 100, 1, 2\n",
        "\n",
        "# Prepare data\n",
        "X, y = random_walk_blobs(n_ts_per_blob=n_ts_per_blob,\n",
        "                         sz=sz,\n",
        "                         d=d,\n",
        "                         n_blobs=n_blobs)\n",
        "scaler = TimeSeriesScalerMinMax(value_range=(0., 1.))  # Rescale time series\n",
        "X_scaled = scaler.fit_transform(X)\n",
        "\n",
        "indices_shuffle = numpy.random.permutation(n_ts_per_blob * n_blobs)\n",
        "X_shuffle = X_scaled[indices_shuffle]\n",
        "y_shuffle = y[indices_shuffle]\n",
        "\n",
        "X_train = X_shuffle[:n_ts_per_blob * n_blobs // 2]\n",
        "X_test = X_shuffle[n_ts_per_blob * n_blobs // 2:]\n",
        "y_train = y_shuffle[:n_ts_per_blob * n_blobs // 2]\n",
        "y_test = y_shuffle[n_ts_per_blob * n_blobs // 2:]\n",
        "\n",
        "# Nearest neighbor search\n",
        "knn = KNeighborsTimeSeries(n_neighbors=3, metric=\"dtw\")\n",
        "knn.fit(X_train, y_train)\n",
        "dists, ind = knn.kneighbors(X_test)\n",
        "print(\"1. Nearest neighbour search\")\n",
        "print(\"Computed nearest neighbor indices (wrt DTW)\\n\", ind)\n",
        "print(\"First nearest neighbor class:\", y_test[ind[:, 0]])\n",
        "\n",
        "# Nearest neighbor classification\n",
        "knn_clf = KNeighborsTimeSeriesClassifier(n_neighbors=3, metric=\"dtw\")\n",
        "knn_clf.fit(X_train, y_train)\n",
        "predicted_labels = knn_clf.predict(X_test)\n",
        "print(\"\\n2. Nearest neighbor classification using DTW\")\n",
        "print(\"Correct classification rate:\", accuracy_score(y_test, predicted_labels))\n",
        "\n",
        "# Nearest neighbor classification with a different metric (Euclidean distance)\n",
        "knn_clf = KNeighborsTimeSeriesClassifier(n_neighbors=3, metric=\"euclidean\")\n",
        "knn_clf.fit(X_train, y_train)\n",
        "predicted_labels = knn_clf.predict(X_test)\n",
        "print(\"\\n3. Nearest neighbor classification using L2\")\n",
        "print(\"Correct classification rate:\", accuracy_score(y_test, predicted_labels))\n",
        "\n",
        "# Nearest neighbor classification based on SAX representation\n",
        "metric_params = {'n_segments': 10, 'alphabet_size_avg': 5}\n",
        "knn_clf = KNeighborsTimeSeriesClassifier(n_neighbors=3, metric=\"sax\",\n",
        "                                         metric_params=metric_params)\n",
        "knn_clf.fit(X_train, y_train)\n",
        "predicted_labels = knn_clf.predict(X_test)\n",
        "print(\"\\n4. Nearest neighbor classification using SAX+MINDIST\")\n",
        "print(\"Correct classification rate:\", accuracy_score(y_test, predicted_labels))"
      ]
    },
    {
      "cell_type": "code",
      "source": [
        ""
      ],
      "metadata": {
        "id": "h6XVacDb3Vrd"
      },
      "execution_count": null,
      "outputs": []
    }
  ],
  "metadata": {
    "kernelspec": {
      "display_name": "Python 3",
      "language": "python",
      "name": "python3"
    },
    "language_info": {
      "codemirror_mode": {
        "name": "ipython",
        "version": 3
      },
      "file_extension": ".py",
      "mimetype": "text/x-python",
      "name": "python",
      "nbconvert_exporter": "python",
      "pygments_lexer": "ipython3",
      "version": "3.7.9"
    },
    "colab": {
      "name": "09 - TSLearn - KNN1.ipynb",
      "provenance": [],
      "collapsed_sections": [],
      "include_colab_link": true
    }
  },
  "nbformat": 4,
  "nbformat_minor": 0
}