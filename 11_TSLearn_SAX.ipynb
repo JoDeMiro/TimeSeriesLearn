{
  "cells": [
    {
      "cell_type": "markdown",
      "metadata": {
        "id": "view-in-github",
        "colab_type": "text"
      },
      "source": [
        "<a href=\"https://colab.research.google.com/github/JoDeMiro/TimeSeriesLearn/blob/main/11_TSLearn_SAX.ipynb\" target=\"_parent\"><img src=\"https://colab.research.google.com/assets/colab-badge.svg\" alt=\"Open In Colab\"/></a>"
      ]
    },
    {
      "cell_type": "code",
      "execution_count": null,
      "metadata": {
        "id": "YHif68kK4hfY"
      },
      "outputs": [],
      "source": [
        "%matplotlib inline"
      ]
    },
    {
      "cell_type": "markdown",
      "metadata": {
        "id": "b8sS2Cu04hfh"
      },
      "source": [
        "\n",
        "# 1-NN with SAX + MINDIST\n",
        "\n",
        "This example presents a comparison between k-Nearest Neighbor runs with k=1.\n",
        "It compares the use of:\n",
        "* MINDIST (see [1]) on SAX representations of the data.\n",
        "* Euclidean distance on the raw values of the time series.\n",
        "\n",
        "The comparison is based on test accuracy using several benchmark datasets.\n",
        "\n",
        "[1] Lin, Jessica, et al. \"Experiencing SAX: a novel symbolic\n",
        "    representation of time series.\" Data Mining and knowledge\n",
        "    discovery 15.2 (2007): 107-144.\n"
      ]
    },
    {
      "cell_type": "code",
      "source": [
        "!pip install -q tslearn"
      ],
      "metadata": {
        "colab": {
          "base_uri": "https://localhost:8080/"
        },
        "id": "80uE7e7N4iki",
        "outputId": "9ba45710-3708-4b5e-96f3-a9de3799ba00"
      },
      "execution_count": 1,
      "outputs": [
        {
          "output_type": "stream",
          "name": "stdout",
          "text": [
            "\u001b[?25l\r\u001b[K     |▍                               | 10 kB 11.2 MB/s eta 0:00:01\r\u001b[K     |▉                               | 20 kB 17.4 MB/s eta 0:00:01\r\u001b[K     |█▎                              | 30 kB 16.3 MB/s eta 0:00:01\r\u001b[K     |█▋                              | 40 kB 11.2 MB/s eta 0:00:01\r\u001b[K     |██                              | 51 kB 4.7 MB/s eta 0:00:01\r\u001b[K     |██▌                             | 61 kB 4.8 MB/s eta 0:00:01\r\u001b[K     |███                             | 71 kB 4.7 MB/s eta 0:00:01\r\u001b[K     |███▎                            | 81 kB 5.2 MB/s eta 0:00:01\r\u001b[K     |███▊                            | 92 kB 5.1 MB/s eta 0:00:01\r\u001b[K     |████▏                           | 102 kB 4.4 MB/s eta 0:00:01\r\u001b[K     |████▌                           | 112 kB 4.4 MB/s eta 0:00:01\r\u001b[K     |█████                           | 122 kB 4.4 MB/s eta 0:00:01\r\u001b[K     |█████▍                          | 133 kB 4.4 MB/s eta 0:00:01\r\u001b[K     |█████▉                          | 143 kB 4.4 MB/s eta 0:00:01\r\u001b[K     |██████▏                         | 153 kB 4.4 MB/s eta 0:00:01\r\u001b[K     |██████▋                         | 163 kB 4.4 MB/s eta 0:00:01\r\u001b[K     |███████                         | 174 kB 4.4 MB/s eta 0:00:01\r\u001b[K     |███████▍                        | 184 kB 4.4 MB/s eta 0:00:01\r\u001b[K     |███████▉                        | 194 kB 4.4 MB/s eta 0:00:01\r\u001b[K     |████████▎                       | 204 kB 4.4 MB/s eta 0:00:01\r\u001b[K     |████████▊                       | 215 kB 4.4 MB/s eta 0:00:01\r\u001b[K     |█████████                       | 225 kB 4.4 MB/s eta 0:00:01\r\u001b[K     |█████████▌                      | 235 kB 4.4 MB/s eta 0:00:01\r\u001b[K     |██████████                      | 245 kB 4.4 MB/s eta 0:00:01\r\u001b[K     |██████████▎                     | 256 kB 4.4 MB/s eta 0:00:01\r\u001b[K     |██████████▊                     | 266 kB 4.4 MB/s eta 0:00:01\r\u001b[K     |███████████▏                    | 276 kB 4.4 MB/s eta 0:00:01\r\u001b[K     |███████████▋                    | 286 kB 4.4 MB/s eta 0:00:01\r\u001b[K     |████████████                    | 296 kB 4.4 MB/s eta 0:00:01\r\u001b[K     |████████████▍                   | 307 kB 4.4 MB/s eta 0:00:01\r\u001b[K     |████████████▉                   | 317 kB 4.4 MB/s eta 0:00:01\r\u001b[K     |█████████████▏                  | 327 kB 4.4 MB/s eta 0:00:01\r\u001b[K     |█████████████▋                  | 337 kB 4.4 MB/s eta 0:00:01\r\u001b[K     |██████████████                  | 348 kB 4.4 MB/s eta 0:00:01\r\u001b[K     |██████████████▌                 | 358 kB 4.4 MB/s eta 0:00:01\r\u001b[K     |██████████████▉                 | 368 kB 4.4 MB/s eta 0:00:01\r\u001b[K     |███████████████▎                | 378 kB 4.4 MB/s eta 0:00:01\r\u001b[K     |███████████████▊                | 389 kB 4.4 MB/s eta 0:00:01\r\u001b[K     |████████████████▏               | 399 kB 4.4 MB/s eta 0:00:01\r\u001b[K     |████████████████▌               | 409 kB 4.4 MB/s eta 0:00:01\r\u001b[K     |█████████████████               | 419 kB 4.4 MB/s eta 0:00:01\r\u001b[K     |█████████████████▍              | 430 kB 4.4 MB/s eta 0:00:01\r\u001b[K     |█████████████████▊              | 440 kB 4.4 MB/s eta 0:00:01\r\u001b[K     |██████████████████▏             | 450 kB 4.4 MB/s eta 0:00:01\r\u001b[K     |██████████████████▋             | 460 kB 4.4 MB/s eta 0:00:01\r\u001b[K     |███████████████████             | 471 kB 4.4 MB/s eta 0:00:01\r\u001b[K     |███████████████████▍            | 481 kB 4.4 MB/s eta 0:00:01\r\u001b[K     |███████████████████▉            | 491 kB 4.4 MB/s eta 0:00:01\r\u001b[K     |████████████████████▎           | 501 kB 4.4 MB/s eta 0:00:01\r\u001b[K     |████████████████████▋           | 512 kB 4.4 MB/s eta 0:00:01\r\u001b[K     |█████████████████████           | 522 kB 4.4 MB/s eta 0:00:01\r\u001b[K     |█████████████████████▌          | 532 kB 4.4 MB/s eta 0:00:01\r\u001b[K     |██████████████████████          | 542 kB 4.4 MB/s eta 0:00:01\r\u001b[K     |██████████████████████▎         | 552 kB 4.4 MB/s eta 0:00:01\r\u001b[K     |██████████████████████▊         | 563 kB 4.4 MB/s eta 0:00:01\r\u001b[K     |███████████████████████▏        | 573 kB 4.4 MB/s eta 0:00:01\r\u001b[K     |███████████████████████▌        | 583 kB 4.4 MB/s eta 0:00:01\r\u001b[K     |████████████████████████        | 593 kB 4.4 MB/s eta 0:00:01\r\u001b[K     |████████████████████████▍       | 604 kB 4.4 MB/s eta 0:00:01\r\u001b[K     |████████████████████████▉       | 614 kB 4.4 MB/s eta 0:00:01\r\u001b[K     |█████████████████████████▏      | 624 kB 4.4 MB/s eta 0:00:01\r\u001b[K     |█████████████████████████▋      | 634 kB 4.4 MB/s eta 0:00:01\r\u001b[K     |██████████████████████████      | 645 kB 4.4 MB/s eta 0:00:01\r\u001b[K     |██████████████████████████▍     | 655 kB 4.4 MB/s eta 0:00:01\r\u001b[K     |██████████████████████████▉     | 665 kB 4.4 MB/s eta 0:00:01\r\u001b[K     |███████████████████████████▎    | 675 kB 4.4 MB/s eta 0:00:01\r\u001b[K     |███████████████████████████▊    | 686 kB 4.4 MB/s eta 0:00:01\r\u001b[K     |████████████████████████████    | 696 kB 4.4 MB/s eta 0:00:01\r\u001b[K     |████████████████████████████▌   | 706 kB 4.4 MB/s eta 0:00:01\r\u001b[K     |█████████████████████████████   | 716 kB 4.4 MB/s eta 0:00:01\r\u001b[K     |█████████████████████████████▍  | 727 kB 4.4 MB/s eta 0:00:01\r\u001b[K     |█████████████████████████████▊  | 737 kB 4.4 MB/s eta 0:00:01\r\u001b[K     |██████████████████████████████▏ | 747 kB 4.4 MB/s eta 0:00:01\r\u001b[K     |██████████████████████████████▋ | 757 kB 4.4 MB/s eta 0:00:01\r\u001b[K     |███████████████████████████████ | 768 kB 4.4 MB/s eta 0:00:01\r\u001b[K     |███████████████████████████████▍| 778 kB 4.4 MB/s eta 0:00:01\r\u001b[K     |███████████████████████████████▉| 788 kB 4.4 MB/s eta 0:00:01\r\u001b[K     |████████████████████████████████| 793 kB 4.4 MB/s \n",
            "\u001b[?25h"
          ]
        }
      ]
    },
    {
      "cell_type": "code",
      "execution_count": 2,
      "metadata": {
        "colab": {
          "base_uri": "https://localhost:8080/"
        },
        "id": "j95uuPzz4hfn",
        "outputId": "67deba03-df8b-4942-ba1e-ed2f580753a4"
      },
      "outputs": [
        {
          "output_type": "stream",
          "name": "stdout",
          "text": [
            "|      dataset       | sax error  |  sax time  | eucl error | eucl time  |\n",
            "--------------------------------------------------------------------------\n",
            "|    SyntheticControl|        0.03|    24.05842|        0.12|     0.15072|\n",
            "|            GunPoint|     0.20667|     4.74331|     0.08667|     0.04942|\n",
            "|            FaceFour|     0.14773|      1.7578|     0.21591|      0.0655|\n",
            "|          Lightning2|     0.19672|     3.12492|      0.2459|     0.01775|\n",
            "|          Lightning7|     0.46575|     1.22875|     0.42466|     0.01683|\n",
            "|              ECG200|        0.12|     0.96536|        0.12|     0.02324|\n",
            "|               Plane|     0.04762|     1.52954|      0.0381|     0.02221|\n",
            "|                 Car|        0.35|     1.53087|     0.26667|     0.01634|\n",
            "|                Beef|     0.53333|     0.25309|     0.33333|     0.00863|\n",
            "|              Coffee|     0.46429|     0.20482|         0.0|     0.00684|\n",
            "|            OliveOil|     0.83333|     0.39438|     0.13333|     0.01129|\n",
            "--------------------------------------------------------------------------\n"
          ]
        }
      ],
      "source": [
        "# Author: Gilles Vandewiele\n",
        "# License: BSD 3 clause\n",
        "\n",
        "import warnings\n",
        "import time\n",
        "\n",
        "import numpy\n",
        "import matplotlib.pyplot as plt\n",
        "from scipy.stats import norm\n",
        "\n",
        "from tslearn.datasets import UCR_UEA_datasets\n",
        "from tslearn.preprocessing import TimeSeriesScalerMeanVariance\n",
        "from tslearn.neighbors import KNeighborsTimeSeriesClassifier\n",
        "\n",
        "from sklearn.base import clone\n",
        "from sklearn.metrics import pairwise_distances, accuracy_score\n",
        "from sklearn.neighbors import KNeighborsClassifier\n",
        "\n",
        "\n",
        "warnings.filterwarnings('ignore')\n",
        "\n",
        "\n",
        "def print_table(accuracies, times):\n",
        "    \"\"\"Utility function to pretty print the obtained accuracies\"\"\"\n",
        "    header_str = '|'\n",
        "    header_str += '{:^20}|'.format('dataset')\n",
        "    columns = ['sax error', 'sax time', 'eucl error', 'eucl time']\n",
        "    for col in columns:\n",
        "        header_str += '{:^12}|'.format(col)\n",
        "    print(header_str)\n",
        "    print('-'*(len(columns) * 13 + 22))\n",
        "\n",
        "    for dataset in accuracies:\n",
        "        acc_sax, acc_euclidean = accuracies[dataset]\n",
        "        time_sax, time_euclidean = times[dataset]\n",
        "        sax_error = numpy.around(1 - acc_sax, 5)\n",
        "        eucl_error = numpy.around(1 - acc_euclidean, 5)\n",
        "        time_sax = numpy.around(time_sax, 5)\n",
        "        time_euclidean = numpy.around(time_euclidean, 5)\n",
        "        s = '|'\n",
        "        s += '{:>20}|'.format(dataset)\n",
        "        s += '{:>12}|'.format(sax_error)\n",
        "        s += '{:>12}|'.format(time_sax)\n",
        "        s += '{:>12}|'.format(eucl_error)\n",
        "        s += '{:>12}|'.format(time_euclidean)\n",
        "        print(s.strip())\n",
        "\n",
        "    print('-'*(len(columns) * 13 + 22))\n",
        "\n",
        "\n",
        "# Set seed\n",
        "numpy.random.seed(0)\n",
        "\n",
        "# Defining dataset and the number of segments\n",
        "data_loader = UCR_UEA_datasets()\n",
        "datasets = [\n",
        "    ('SyntheticControl', 16),\n",
        "    ('GunPoint', 64),\n",
        "    ('FaceFour', 128),\n",
        "    ('Lightning2', 256),\n",
        "    ('Lightning7', 128),\n",
        "    ('ECG200', 32),\n",
        "    ('Plane', 64),\n",
        "    ('Car', 256),\n",
        "    ('Beef', 128),\n",
        "    ('Coffee', 128),\n",
        "    ('OliveOil', 256)\n",
        "]\n",
        "\n",
        "# We will compare the accuracies & execution times of 1-NN using:\n",
        "# (i) MINDIST on SAX representations, and\n",
        "# (ii) euclidean distance on raw values\n",
        "knn_sax = KNeighborsTimeSeriesClassifier(n_neighbors=1, metric='sax')\n",
        "knn_eucl = KNeighborsTimeSeriesClassifier(n_neighbors=1, metric='euclidean')\n",
        "\n",
        "accuracies = {}\n",
        "times = {}\n",
        "for dataset, w in datasets:\n",
        "    X_train, y_train, X_test, y_test = data_loader.load_dataset(dataset)\n",
        "\n",
        "    ts_scaler = TimeSeriesScalerMeanVariance()\n",
        "    X_train = ts_scaler.fit_transform(X_train)\n",
        "    X_test = ts_scaler.fit_transform(X_test)\n",
        "\n",
        "    # Fit 1-NN using SAX representation & MINDIST\n",
        "    metric_params = {'n_segments': w, 'alphabet_size_avg': 10}\n",
        "    knn_sax = clone(knn_sax).set_params(metric_params=metric_params)\n",
        "    start = time.time()\n",
        "    knn_sax.fit(X_train, y_train)\n",
        "    acc_sax = accuracy_score(y_test, knn_sax.predict(X_test))\n",
        "    time_sax = time.time() - start\n",
        "\n",
        "    # Fit 1-NN using euclidean distance on raw values\n",
        "    start = time.time()\n",
        "    knn_eucl.fit(X_train, y_train)\n",
        "    acc_euclidean = accuracy_score(y_test, knn_eucl.predict(X_test))\n",
        "    time_euclidean = time.time() - start\n",
        "\n",
        "    accuracies[dataset] = (acc_sax, acc_euclidean)\n",
        "    times[dataset] = (time_sax, time_euclidean)\n",
        "\n",
        "print_table(accuracies, times)"
      ]
    },
    {
      "cell_type": "code",
      "source": [
        ""
      ],
      "metadata": {
        "id": "doPDt64e4lD8"
      },
      "execution_count": null,
      "outputs": []
    }
  ],
  "metadata": {
    "kernelspec": {
      "display_name": "Python 3",
      "language": "python",
      "name": "python3"
    },
    "language_info": {
      "codemirror_mode": {
        "name": "ipython",
        "version": 3
      },
      "file_extension": ".py",
      "mimetype": "text/x-python",
      "name": "python",
      "nbconvert_exporter": "python",
      "pygments_lexer": "ipython3",
      "version": "3.7.9"
    },
    "colab": {
      "name": "11 - TSLearn - SAX.ipynb",
      "provenance": [],
      "collapsed_sections": [],
      "include_colab_link": true
    }
  },
  "nbformat": 4,
  "nbformat_minor": 0
}