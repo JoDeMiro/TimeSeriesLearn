{
  "cells": [
    {
      "cell_type": "markdown",
      "metadata": {
        "id": "view-in-github",
        "colab_type": "text"
      },
      "source": [
        "<a href=\"https://colab.research.google.com/github/JoDeMiro/TimeSeriesLearn/blob/main/99_Get_Stock_Data.ipynb\" target=\"_parent\"><img src=\"https://colab.research.google.com/assets/colab-badge.svg\" alt=\"Open In Colab\"/></a>"
      ]
    },
    {
      "cell_type": "code",
      "execution_count": 1,
      "metadata": {
        "id": "p0feJl8DLVXE"
      },
      "outputs": [],
      "source": [
        "%matplotlib inline"
      ]
    },
    {
      "cell_type": "markdown",
      "metadata": {
        "id": "rh92waImLVXO"
      },
      "source": [
        "\n",
        "# Aligning discovered shapelets with timeseries\n",
        "\n",
        "This example illustrates the use of the \"Learning Shapelets\" method in order\n",
        "to learn a collection of shapelets that linearly separates the timeseries.\n",
        "In this example, we will extract a single shapelet in order to distinguish\n",
        "between two classes of the \"Trace\" dataset. Afterwards, we show how our time\n",
        "series can be transformed to distances by aligning the shapelets along each of\n",
        "the time series. This alignment is performed by shifting the smaller shapelet\n",
        "across the longer time series and taking the minimal pointwise distance.\n",
        "\n",
        "More information on the method can be found at:\n",
        "http://fs.ismll.de/publicspace/LearningShapelets/.\n"
      ]
    },
    {
      "cell_type": "code",
      "source": [
        "!pip install -q tslearn"
      ],
      "metadata": {
        "id": "xAQkj717LaeS"
      },
      "execution_count": 4,
      "outputs": []
    },
    {
      "cell_type": "markdown",
      "source": [
        "# Get Stock Data"
      ],
      "metadata": {
        "id": "JlDRmbyRj6L_"
      }
    },
    {
      "cell_type": "code",
      "source": [
        "!pip install -q pandas-datareader --upgrade"
      ],
      "metadata": {
        "id": "NQja9pv7kYK3"
      },
      "execution_count": 2,
      "outputs": []
    },
    {
      "cell_type": "code",
      "source": [
        "import pandas as pd\n",
        "import pandas_datareader.data as web\n",
        "\n",
        "from datetime import datetime\n",
        "\n",
        "start = datetime(2014, 6, 2)\n",
        "end = datetime(2020, 12, 20)\n",
        "\n",
        "df = web.get_data_yahoo(['AAPL'],start=start,end=end)\n",
        "\n",
        "aapl = df['Close'].AAPL.values\n",
        "aapl.shape\n",
        "type(aapl)\n"
      ],
      "metadata": {
        "colab": {
          "base_uri": "https://localhost:8080/"
        },
        "id": "-wKhIO_Nj8MQ",
        "outputId": "e644c961-9bdc-4477-c16f-e7f89e75deb3"
      },
      "execution_count": 9,
      "outputs": [
        {
          "output_type": "execute_result",
          "data": {
            "text/plain": [
              "numpy.ndarray"
            ]
          },
          "metadata": {},
          "execution_count": 9
        }
      ]
    },
    {
      "cell_type": "code",
      "source": [
        ""
      ],
      "metadata": {
        "id": "XJyqvq7bm3MH"
      },
      "execution_count": null,
      "outputs": []
    }
  ],
  "metadata": {
    "kernelspec": {
      "display_name": "Python 3",
      "language": "python",
      "name": "python3"
    },
    "language_info": {
      "codemirror_mode": {
        "name": "ipython",
        "version": 3
      },
      "file_extension": ".py",
      "mimetype": "text/x-python",
      "name": "python",
      "nbconvert_exporter": "python",
      "pygments_lexer": "ipython3",
      "version": "3.7.9"
    },
    "colab": {
      "name": "99 - Get Stock Data.ipynb",
      "provenance": [],
      "collapsed_sections": [],
      "include_colab_link": true
    }
  },
  "nbformat": 4,
  "nbformat_minor": 0
}